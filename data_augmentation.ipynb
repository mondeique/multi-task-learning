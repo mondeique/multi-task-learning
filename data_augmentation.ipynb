{
 "cells": [
  {
   "cell_type": "markdown",
   "metadata": {},
   "source": [
    "## import library"
   ]
  },
  {
   "cell_type": "code",
   "execution_count": null,
   "metadata": {},
   "outputs": [],
   "source": [
    "import os\n",
    "import random\n",
    "from scipy import ndarray\n",
    "\n",
    "# image processing library\n",
    "\n",
    "import skimage as sk\n",
    "from skimage import transform\n",
    "from skimage import util\n",
    "from skimage import io"
   ]
  },
  {
   "cell_type": "markdown",
   "metadata": {},
   "source": [
    "## augment function"
   ]
  },
  {
   "cell_type": "code",
   "execution_count": null,
   "metadata": {},
   "outputs": [],
   "source": [
    "def random_rotation(image_array: ndarray):\n",
    "# pick a random degree of rotation between 15% on the left and 15% on the right\n",
    "    random_degree = random.uniform(-15, 15)\n",
    "    return sk.transform.rotate(image_array, random_degree)"
   ]
  },
  {
   "cell_type": "code",
   "execution_count": null,
   "metadata": {},
   "outputs": [],
   "source": [
    "def random_noise(image_array: ndarray):\n",
    "# add random noise to the image\n",
    "    return sk.util.random_noise(image_array)"
   ]
  },
  {
   "cell_type": "code",
   "execution_count": null,
   "metadata": {},
   "outputs": [],
   "source": [
    "def horizontal_flip(image_array: ndarray):\n",
    "# horizontal flip doesn't need skimage, it's easy as flipping the image array of pixels !\n",
    "    return image_array[:, ::-1]"
   ]
  },
  {
   "cell_type": "markdown",
   "metadata": {},
   "source": [
    "## extract augment list from DB"
   ]
  },
  {
   "cell_type": "code",
   "execution_count": null,
   "metadata": {},
   "outputs": [],
   "source": [
    "# u_trapezoid\n",
    "trapezoid_aug_list = ['cropped-bag-images-dev/E4YX7WKHAXH_2.jpg',\n",
    " 'cropped-bag-images-dev/BPN0I8FM81Z_2.jpg',\n",
    " 'cropped-bag-images-dev/9Q7H5JIIN2R_1.jpg',\n",
    " 'cropped-bag-images-dev/RWCXYJX03JP_2.jpg',\n",
    " 'cropped-bag-images-dev/LGRBE5RPTWJ_2.jpg',\n",
    " 'cropped-bag-images-dev/79ZGU6BJ6FW_2.jpg',\n",
    " 'cropped-bag-images-dev/T4D27IO0Z2C_2.jpg',\n",
    " 'cropped-bag-images-dev/JZYYBX33BMQ_2.jpg',\n",
    " 'cropped-bag-images-dev/FEX0ZBT9A7O_2.jpg',\n",
    " 'cropped-bag-images-dev/O6SDO8QFGUN_1.jpg',\n",
    " 'cropped-bag-images-dev/5WJTA6GEPGY_2.jpg',\n",
    " 'cropped-bag-images-dev/KNWDIF7CQPL_2.jpg',\n",
    " 'cropped-bag-images-dev/LMJ49QWP7OZ_2.jpg',\n",
    " 'cropped-bag-images-dev/LTPU0JJD1YV_2.jpg',\n",
    " 'cropped-bag-images-dev/JY9K691TGNW_1.jpg',\n",
    " 'cropped-bag-images-dev/8WLBMMJP0NZ_2.jpg',\n",
    " 'cropped-bag-images-dev/BLWV8UB3GNO_2.jpg',\n",
    " 'cropped-bag-images-dev/J5VOLT4O2MP_1.jpg',\n",
    " 'cropped-bag-images-dev/O7HAH4DUTBK_2.jpg',\n",
    " 'cropped-bag-images-dev/VDNX7RRM59B_1.jpg',\n",
    " 'cropped-bag-images-dev/O68YY2O169F_1.jpg',\n",
    " 'cropped-bag-images-dev/JMUIKHTTNVJ_1.jpg',\n",
    " 'cropped-bag-images-dev/ZC36PJZRX3Y_1.jpg',\n",
    " 'cropped-bag-images-dev/BFM0KLPPI1V_1.jpg',\n",
    " 'cropped-bag-images-dev/LW187N798DD_1.jpg',\n",
    " 'cropped-bag-images-dev/40Y3UXEAEAR_1.jpg',\n",
    " 'cropped-bag-images-dev/8ASKAENNDGQ_1.jpg',\n",
    " 'cropped-bag-images-dev/FDCABE50EPB_1.jpg',\n",
    " 'cropped-bag-images-dev/YZQ2XAER7FV_1.jpg',\n",
    " 'cropped-bag-images-dev/HAELHNXKTNT_1.jpg',\n",
    " 'cropped-bag-images-dev/LS0TLGVZZZE_1.jpg',\n",
    " 'cropped-bag-images-dev/6ICW37U76IW_1.jpg',\n",
    " 'cropped-bag-images-dev/TD77FHLXUZB_1.jpg',\n",
    " 'cropped-bag-images-dev/SDLH9UHZXUX_1.jpg',\n",
    " 'cropped-bag-images-dev/OA0HDZ3GAPL_1.jpg',\n",
    " 'cropped-bag-images-dev/Y52MWV1HHPE_1.jpg',\n",
    " 'cropped-bag-images-dev/LPR65MF6QBI_1.jpg',\n",
    " 'cropped-bag-images-dev/G46GLZPER7S_1.jpg',\n",
    " 'cropped-bag-images-dev/6WKCOWMVF7S_1.jpg',\n",
    " 'cropped-bag-images-dev/AQX6596SYGL_1.jpg',\n",
    " 'cropped-bag-images-dev/ZH91VWBRIZF_1.jpg',\n",
    " 'cropped-bag-images-dev/C325LFLKK8D_1.jpg',\n",
    " 'cropped-bag-images-dev/M5C07ULRXHB_1.jpg',\n",
    " 'cropped-bag-images-dev/5V2KABPRRXB_1.jpg',\n",
    " 'cropped-bag-images-dev/WKYTA9T5ERE_1.jpg',\n",
    " 'cropped-bag-images-dev/LRNWIOTCU0S_1.jpg',\n",
    " 'cropped-bag-images-dev/T4INV2TPESF_1.jpg',\n",
    " 'cropped-bag-images-dev/A8HGTYF571Z_1.jpg',\n",
    " 'cropped-bag-images-dev/0EI1JDRZK2Z_1.jpg',\n",
    " 'cropped-bag-images-dev/4JGS78YJOAG_1.jpg',\n",
    " 'cropped-bag-images-dev/XFNDTE5YD9Z_1.jpg',\n",
    " 'cropped-bag-images-dev/491MDH3C7ZV_1.jpg',\n",
    " 'cropped-bag-images-dev/2NQWOLWPIXL_1.jpg',\n",
    " 'cropped-bag-images-dev/99414853UZV_1.jpg',\n",
    " 'cropped-bag-images-dev/7FRNHJ2B0QV_1.jpg',\n",
    " 'cropped-bag-images-dev/9IX10SLEGKW_1.jpg',\n",
    " 'cropped-bag-images-dev/1D4TDUDVE7A_1.jpg',\n",
    " 'cropped-bag-images-dev/M988N03HYGV_1.jpg',\n",
    " 'cropped-bag-images-dev/DLD0AW53QWG_1.jpg',\n",
    " 'cropped-bag-images-dev/1TLSCH8QEPB_1.jpg',\n",
    " 'cropped-bag-images-dev/642OAXCXINZ_1.jpg',\n",
    " 'cropped-bag-images-dev/8M3CQVGTRMS_1.jpg',\n",
    " 'cropped-bag-images-dev/23EPJZPSL3I_1.jpg',\n",
    " 'cropped-bag-images-dev/ZAG9JFZYTRZ_1.jpg',\n",
    " 'cropped-bag-images-dev/AY33PC5TK9U_1.jpg',\n",
    " 'cropped-bag-images-dev/GMEG0EXB9SW_1.jpg',\n",
    " 'cropped-bag-images-dev/VBTH4C8V6HK_1.jpg',\n",
    " 'cropped-bag-images-dev/SW4XUC2WHNP_1.jpg',\n",
    " 'cropped-bag-images-dev/AZ3J3FI6CMK_1.jpg',\n",
    " 'cropped-bag-images-dev/A7EV71ZOD1R_1.jpg',\n",
    " 'cropped-bag-images-dev/NGLI582PQWK_1.jpg',\n",
    " 'cropped-bag-images-dev/BJX9B2LZ9UX_1.jpg',\n",
    " 'cropped-bag-images-dev/STXAC7EVHWH_1.jpg',\n",
    " 'cropped-bag-images-dev/LJDUA5U0CDV_1.jpg',\n",
    " 'cropped-bag-images-dev/PXLQ76I928G_1.jpg',\n",
    " 'cropped-bag-images-dev/IOCS5T894YJ_1.jpg',\n",
    " 'cropped-bag-images-dev/Y40Q80KFNKI_1.jpg',\n",
    " 'cropped-bag-images-dev/GJYWJ1MNI8B_1.jpg',\n",
    " 'cropped-bag-images-dev/XPOMQYQZ2EO_1.jpg',\n",
    " 'cropped-bag-images-dev/8ZRO1YY4GJX_1.jpg',\n",
    " 'cropped-bag-images-dev/8KZYUVVNG7N_1.jpg',\n",
    " 'cropped-bag-images-dev/BFFH8LRJSSN_1.jpg',\n",
    " 'cropped-bag-images-dev/P98VI2CTIZH_1.jpg',\n",
    " 'cropped-bag-images-dev/HVLXBR5BT5D_1.jpg',\n",
    " 'cropped-bag-images-dev/S55NUQIDIEP_1.jpg',\n",
    " 'cropped-bag-images-dev/K4NEBQ7AORX_1.jpg',\n",
    " 'cropped-bag-images-dev/995FOQLQUET_1.jpg',\n",
    " 'cropped-bag-images-dev/CT8FIOOWAKM_1.jpg',\n",
    " 'cropped-bag-images-dev/0I5XQJYC60C_1.jpg',\n",
    " 'cropped-bag-images-dev/FM9VH2UE3IL_1.jpg',\n",
    " 'cropped-bag-images-dev/F4D7QFS62ZT_1.jpg',\n",
    " 'cropped-bag-images-dev/PS4NUM5Z48M_1.jpg',\n",
    " 'cropped-bag-images-dev/HK3D64H06BP_1.jpg',\n",
    " 'cropped-bag-images-dev/N68O4HB306N_1.jpg',\n",
    " 'cropped-bag-images-dev/BTQT593JUUV_1.jpg',\n",
    " 'cropped-bag-images-dev/6G6W06GKV2J_1.jpg',\n",
    " 'cropped-bag-images-dev/FWE73MIK53C_1.jpg',\n",
    " 'cropped-bag-images-dev/5A0TBBNWEIB_1.jpg']"
   ]
  },
  {
   "cell_type": "code",
   "execution_count": null,
   "metadata": {},
   "outputs": [],
   "source": [
    "for i in range(len(trapezoid_aug_list)):\n",
    "    trapezoid_aug_list[i] = './data/' + trapezoid_aug_list[i]"
   ]
  },
  {
   "cell_type": "code",
   "execution_count": null,
   "metadata": {
    "scrolled": true
   },
   "outputs": [],
   "source": [
    "trapezoid_aug_list"
   ]
  },
  {
   "cell_type": "code",
   "execution_count": null,
   "metadata": {},
   "outputs": [],
   "source": [
    "len(trapezoid_aug_list)"
   ]
  },
  {
   "cell_type": "code",
   "execution_count": null,
   "metadata": {},
   "outputs": [],
   "source": [
    "half_circle_aug_list = ['cropped-bag-images-dev/HTUJIOJ979X_2.jpg',\n",
    " 'cropped-bag-images-dev/09G6D410A4N_2.jpg',\n",
    " 'cropped-bag-images-dev/P4EAXQFHY7U_1.jpg',\n",
    " 'cropped-bag-images-dev/6ELHALXTQJL_1.jpg',\n",
    " 'cropped-bag-images-dev/HBFNZMMZOTJ_1.jpg',\n",
    " 'cropped-bag-images-dev/8V45LPDYIIB_1.jpg',\n",
    " 'cropped-bag-images-dev/T0K0S4KXJ3B_1.jpg',\n",
    " 'cropped-bag-images-dev/94WOW0YAAHF_1.jpg',\n",
    " 'cropped-bag-images-dev/80Z8ZRHAXBK_1.jpg',\n",
    " 'cropped-bag-images-dev/W960NL9A13Y_1.jpg',\n",
    " 'cropped-bag-images-dev/YVRI33Y6SZY_1.jpg',\n",
    " 'cropped-bag-images-dev/RYBS5VVBK5E_1.jpg',\n",
    " 'cropped-bag-images-dev/E08MOPX7K3C_1.jpg',\n",
    " 'cropped-bag-images-dev/QUW1RQTW7NQ_1.jpg',\n",
    " 'cropped-bag-images-dev/ZPE1BRBSNLB_1.jpg',\n",
    " 'cropped-bag-images-dev/1X0B45TYJRA_1.jpg',\n",
    " 'cropped-bag-images-dev/7F48I8QI1HB_1.jpg',\n",
    " 'cropped-bag-images-dev/4ABR3FHAYKY_1.jpg',\n",
    " 'cropped-bag-images-dev/VZTIBLMC64E_1.jpg',\n",
    " 'cropped-bag-images-dev/YLG9AHELZ7H_1.jpg',\n",
    " 'cropped-bag-images-dev/7I4A2LKKUEQ_1.jpg',\n",
    " 'cropped-bag-images-dev/SMEWZCC1ICX_1.jpg',\n",
    " 'cropped-bag-images-dev/0RYUNWDQ54J_1.jpg',\n",
    " 'cropped-bag-images-dev/37R9RI5171K_1.jpg',\n",
    " 'cropped-bag-images-dev/VK260NRHC9C_1.jpg',\n",
    " 'cropped-bag-images-dev/IUQ152C36PJ_1.jpg',\n",
    " 'cropped-bag-images-dev/PHKRNMACX5D_1.jpg',\n",
    " 'cropped-bag-images-dev/1E92G3FLXNM_1.jpg',\n",
    " 'cropped-bag-images-dev/DPBYUL6LT1B_1.jpg',\n",
    " 'cropped-bag-images-dev/RHOJX36QYNZ_1.jpg',\n",
    " 'cropped-bag-images-dev/Y56PCG2ZOWZ_1.jpg',\n",
    " 'cropped-bag-images-dev/HI136TXXM3Y_1.jpg',\n",
    " 'cropped-bag-images-dev/CGJCNURZ8UN_1.jpg',\n",
    " 'cropped-bag-images-dev/6NTB812AD2H_1.jpg',\n",
    " 'cropped-bag-images-dev/MPXY8UHPPQM_1.jpg',\n",
    " 'cropped-bag-images-dev/B5YBOHT4GJP_1.jpg',\n",
    " 'cropped-bag-images-dev/ZV85IEFK8VJ_1.jpg',\n",
    " 'cropped-bag-images-dev/XPT0KXUWPQA_1.jpg',\n",
    " 'cropped-bag-images-dev/ZX19S2X1OEE_1.jpg',\n",
    " 'cropped-bag-images-dev/9RZLHN4TYLM_1.jpg',\n",
    " 'cropped-bag-images-dev/62Z0Y8GFXCI_1.jpg',\n",
    " 'cropped-bag-images-dev/1K53GTEYOUD_1.jpg',\n",
    " 'cropped-bag-images-dev/E1AE79SHAFT_1.jpg',\n",
    " 'cropped-bag-images-dev/ARW3ED690JW_1.jpg',\n",
    " 'cropped-bag-images-dev/USNDPUHIYOT_1.jpg']"
   ]
  },
  {
   "cell_type": "code",
   "execution_count": null,
   "metadata": {},
   "outputs": [],
   "source": [
    "for i in range(len(half_circle_aug_list)):\n",
    "    half_circle_aug_list[i] = './data/' + half_circle_aug_list[i]"
   ]
  },
  {
   "cell_type": "code",
   "execution_count": null,
   "metadata": {},
   "outputs": [],
   "source": [
    "half_circle_aug_list"
   ]
  },
  {
   "cell_type": "code",
   "execution_count": null,
   "metadata": {},
   "outputs": [],
   "source": [
    "len(half_circle_aug_list)"
   ]
  },
  {
   "cell_type": "markdown",
   "metadata": {},
   "source": [
    "## Augment Data"
   ]
  },
  {
   "cell_type": "markdown",
   "metadata": {},
   "source": [
    "### u_trapezoid "
   ]
  },
  {
   "cell_type": "code",
   "execution_count": null,
   "metadata": {},
   "outputs": [],
   "source": [
    "# dictionary of the transformations we defined earlier\n",
    "\n",
    "available_transformations = {\n",
    "'rotate': random_rotation,\n",
    "'noise': random_noise,\n",
    "'horizontal_flip': horizontal_flip\n",
    "}\n",
    "\n",
    "folder_path = './data/cropped-bag-images-dev/'\n",
    "\n",
    "num_generated_files = 0\n",
    "for i in range(len(trapezoid_aug_list)):\n",
    "    image_path = trapezoid_aug_list[i]\n",
    "    image_name = trapezoid_aug_list[i].split('/')[-1]\n",
    "# read image as an two dimensional array of pixels\n",
    "    image_to_transform = sk.io.imread(image_path)\n",
    "# random num of transformation to apply\n",
    "    num_transformations_to_apply = 1\n",
    "    num_transformations = 0\n",
    "    transformed_image = None\n",
    "    while num_transformations < num_transformations_to_apply:\n",
    "    # random transformation to apply for a single image\n",
    "        key = random.choice(list(available_transformations))\n",
    "        transformed_image = available_transformations[key](image_to_transform)\n",
    "        num_transformations += 1\n",
    "        new_file_path = '%s/aug_data/trapezoid/aug_%s_%s.jpg' % (folder_path, image_name, num_generated_files)\n",
    "        # write image to the disk\n",
    "        io.imsave(new_file_path, transformed_image)\n",
    "        num_generated_files += 1"
   ]
  },
  {
   "cell_type": "markdown",
   "metadata": {},
   "source": [
    "#### make dataframe "
   ]
  },
  {
   "cell_type": "code",
   "execution_count": null,
   "metadata": {},
   "outputs": [],
   "source": [
    "import os \n",
    "folder_path = os.path.join(os.getcwd()+ '/data/cropped-bag-images-dev/aug_data/trapezoid')"
   ]
  },
  {
   "cell_type": "code",
   "execution_count": null,
   "metadata": {},
   "outputs": [],
   "source": [
    "folder_path"
   ]
  },
  {
   "cell_type": "code",
   "execution_count": null,
   "metadata": {},
   "outputs": [],
   "source": [
    "aug_list = os.listdir(folder_path)\n",
    "\n",
    "aug_list"
   ]
  },
  {
   "cell_type": "code",
   "execution_count": null,
   "metadata": {},
   "outputs": [],
   "source": [
    "import pandas as pd\n",
    "\n",
    "trapezoid_aug_df = pd.DataFrame(aug_list)\n",
    "\n",
    "trapezoid_aug_df"
   ]
  },
  {
   "cell_type": "code",
   "execution_count": null,
   "metadata": {},
   "outputs": [],
   "source": [
    "trapezoid_aug_df.columns = ['filename']\n",
    "\n",
    "trapezoid_aug_df.insert(1, \"shape_source\", \"3\")\n",
    "\n",
    "trapezoid_aug_df"
   ]
  },
  {
   "cell_type": "code",
   "execution_count": null,
   "metadata": {},
   "outputs": [],
   "source": [
    "for i in range(len(trapezoid_aug_df)):\n",
    "    trapezoid_aug_df['filename'][i] = './data/cropped-bag-images-dev/aug_data/trapezoid/' + trapezoid_aug_df['filename'][i]"
   ]
  },
  {
   "cell_type": "markdown",
   "metadata": {},
   "source": [
    "### u_half-circle"
   ]
  },
  {
   "cell_type": "code",
   "execution_count": null,
   "metadata": {},
   "outputs": [],
   "source": [
    "# dictionary of the transformations we defined earlier\n",
    "available_transformations = {\n",
    "'rotate': random_rotation,\n",
    "'noise': random_noise,\n",
    "'horizontal_flip': horizontal_flip\n",
    "}\n",
    "\n",
    "folder_path = './data/cropped-bag-images-dev/'\n",
    "\n",
    "num_generated_files = 0\n",
    "for i in range(len(half_circle_aug_list)):\n",
    "    image_path = half_circle_aug_list[i]\n",
    "    image_name = half_circle_aug_list[i].split('/')[-1]\n",
    "# read image as an two dimensional array of pixels\n",
    "    image_to_transform = sk.io.imread(image_path)\n",
    "# random num of transformation to apply\n",
    "    num_transformations_to_apply = 2\n",
    "    num_transformations = 0\n",
    "    transformed_image = None\n",
    "    while num_transformations <= num_transformations_to_apply:\n",
    "    # random transformation to apply for a single image\n",
    "        key = random.choice(list(available_transformations))\n",
    "        transformed_image = available_transformations[key](image_to_transform)\n",
    "        num_transformations += 1\n",
    "        new_file_path = '%s/aug_data/half_circle/aug_%s_%s.jpg' % (folder_path, image_name, num_generated_files)\n",
    "        # write image to the disk\n",
    "        io.imsave(new_file_path, transformed_image)\n",
    "        num_generated_files += 1"
   ]
  },
  {
   "cell_type": "markdown",
   "metadata": {},
   "source": [
    "#### make dataframe"
   ]
  },
  {
   "cell_type": "code",
   "execution_count": null,
   "metadata": {},
   "outputs": [],
   "source": [
    "import os \n",
    "folder_path = os.path.join(os.getcwd()+ '/data/cropped-bag-images-dev/aug_data/half_circle')"
   ]
  },
  {
   "cell_type": "code",
   "execution_count": null,
   "metadata": {},
   "outputs": [],
   "source": [
    "folder_path"
   ]
  },
  {
   "cell_type": "code",
   "execution_count": null,
   "metadata": {},
   "outputs": [],
   "source": [
    "aug_list = os.listdir(folder_path)\n",
    "\n",
    "aug_list"
   ]
  },
  {
   "cell_type": "code",
   "execution_count": null,
   "metadata": {},
   "outputs": [],
   "source": [
    "half_circle_aug_df = pd.DataFrame(aug_list)\n",
    "\n",
    "half_circle_aug_df"
   ]
  },
  {
   "cell_type": "code",
   "execution_count": null,
   "metadata": {
    "scrolled": true
   },
   "outputs": [],
   "source": [
    "half_circle_aug_df.columns = ['filename']\n",
    "\n",
    "half_circle_aug_df.insert(1, \"shape_source\", \"6\")\n",
    "\n",
    "half_circle_aug_df"
   ]
  },
  {
   "cell_type": "code",
   "execution_count": null,
   "metadata": {},
   "outputs": [],
   "source": [
    "for i in range(len(half_circle_aug_df)):\n",
    "    half_circle_aug_df['filename'][i] = './data/cropped-bag-images-dev/aug_data/half_circle/' + half_circle_aug_df['filename'][i]"
   ]
  },
  {
   "cell_type": "code",
   "execution_count": null,
   "metadata": {},
   "outputs": [],
   "source": [
    "aug_df = pd.concat([trapezoid_aug_df, half_circle_aug_df])"
   ]
  },
  {
   "cell_type": "code",
   "execution_count": null,
   "metadata": {},
   "outputs": [],
   "source": [
    "aug_df = aug_df.reset_index()\n",
    "aug_df = aug_df.drop(['index'], axis=1)"
   ]
  },
  {
   "cell_type": "code",
   "execution_count": null,
   "metadata": {},
   "outputs": [],
   "source": [
    "aug_df"
   ]
  },
  {
   "cell_type": "markdown",
   "metadata": {},
   "source": [
    "## Export dataframe to csv"
   ]
  },
  {
   "cell_type": "code",
   "execution_count": null,
   "metadata": {},
   "outputs": [],
   "source": [
    "aug_df.to_csv('./data/aug_category_labeling.csv')"
   ]
  },
  {
   "cell_type": "code",
   "execution_count": null,
   "metadata": {},
   "outputs": [],
   "source": [
    "## TODO : other category labeling source 집어넣기"
   ]
  }
 ],
 "metadata": {
  "kernelspec": {
   "display_name": "Python 3",
   "language": "python",
   "name": "python3"
  },
  "language_info": {
   "codemirror_mode": {
    "name": "ipython",
    "version": 3
   },
   "file_extension": ".py",
   "mimetype": "text/x-python",
   "name": "python",
   "nbconvert_exporter": "python",
   "pygments_lexer": "ipython3",
   "version": "3.7.4"
  }
 },
 "nbformat": 4,
 "nbformat_minor": 2
}
